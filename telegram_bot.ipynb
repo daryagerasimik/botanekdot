{
 "cells": [
  {
   "cell_type": "code",
   "execution_count": 1,
   "metadata": {
    "collapsed": true
   },
   "outputs": [
    {
     "name": "stdout",
     "output_type": "stream",
     "text": [
      "Collecting pyTelegramBotAPI\n",
      "  Downloading pyTelegramBotAPI-4.8.0.tar.gz (217 kB)\n",
      "     ------------------------------------ 217.2/217.2 kB 601.7 kB/s eta 0:00:00\n",
      "  Preparing metadata (setup.py): started\n",
      "  Preparing metadata (setup.py): finished with status 'done'\n",
      "Requirement already satisfied: requests in c:\\users\\temar\\anaconda3\\lib\\site-packages (from pyTelegramBotAPI) (2.28.1)\n",
      "Requirement already satisfied: certifi>=2017.4.17 in c:\\users\\temar\\anaconda3\\lib\\site-packages (from requests->pyTelegramBotAPI) (2022.9.14)\n",
      "Requirement already satisfied: urllib3<1.27,>=1.21.1 in c:\\users\\temar\\anaconda3\\lib\\site-packages (from requests->pyTelegramBotAPI) (1.26.11)\n",
      "Requirement already satisfied: charset-normalizer<3,>=2 in c:\\users\\temar\\anaconda3\\lib\\site-packages (from requests->pyTelegramBotAPI) (2.0.4)\n",
      "Requirement already satisfied: idna<4,>=2.5 in c:\\users\\temar\\anaconda3\\lib\\site-packages (from requests->pyTelegramBotAPI) (3.3)\n",
      "Building wheels for collected packages: pyTelegramBotAPI\n",
      "  Building wheel for pyTelegramBotAPI (setup.py): started\n",
      "  Building wheel for pyTelegramBotAPI (setup.py): finished with status 'done'\n",
      "  Created wheel for pyTelegramBotAPI: filename=pyTelegramBotAPI-4.8.0-py3-none-any.whl size=200109 sha256=82c51a6fb6fce03c10a359160d2508a357bd0add586616125df3b6a782738bea\n",
      "  Stored in directory: c:\\users\\temar\\appdata\\local\\pip\\cache\\wheels\\48\\d2\\c0\\b6f5a4531b8a4e49546eca52d76521deb9be14a156da42effe\n",
      "Successfully built pyTelegramBotAPI\n",
      "Installing collected packages: pyTelegramBotAPI\n",
      "Successfully installed pyTelegramBotAPI-4.8.0\n"
     ]
    }
   ],
   "source": [
    "!pip install pyTelegramBotAPI"
   ]
  },
  {
   "cell_type": "code",
   "execution_count": 1,
   "outputs": [],
   "source": [
    "import telebot\n",
    "import telebot.types as types\n",
    "import random\n",
    "\n",
    "bot = telebot.TeleBot('5818969391:AAEJLmfDI8XpKhonNkbxS-_SMlbcFhJiFbY')\n",
    "klava = types.ReplyKeyboardMarkup(resize_keyboard=True)\n",
    "novy_mem = types.InlineKeyboardButton(text=\"Хочу шутку\", callback_data='next_meme')\n",
    "klava.add(novy_mem)\n",
    "shutki = open('C:/jokes.txt', 'r', encoding='utf-8').read().split('\\n\\n')\n",
    "\n",
    "@bot.message_handler(content_types=['text'])\n",
    "def get_text_messages(message):\n",
    "    if message.text == 'Хочу шутку':\n",
    "        shutka = random.choice(shutki)\n",
    "        bot.send_message(message.from_user.id, text=shutka, reply_markup=klava)\n",
    "    else:\n",
    "        bot.send_message(message.from_user.id, text='Я тебя не понимаю!', reply_markup=klava)\n",
    "bot.polling(none_stop=True, interval=0)"
   ],
   "metadata": {
    "collapsed": false
   }
  }
 ],
 "metadata": {
  "kernelspec": {
   "display_name": "Python 3",
   "language": "python",
   "name": "python3"
  },
  "language_info": {
   "codemirror_mode": {
    "name": "ipython",
    "version": 2
   },
   "file_extension": ".py",
   "mimetype": "text/x-python",
   "name": "python",
   "nbconvert_exporter": "python",
   "pygments_lexer": "ipython2",
   "version": "2.7.6"
  }
 },
 "nbformat": 4,
 "nbformat_minor": 0
}
